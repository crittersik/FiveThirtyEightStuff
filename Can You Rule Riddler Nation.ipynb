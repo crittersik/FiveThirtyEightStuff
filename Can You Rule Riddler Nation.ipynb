{
 "cells": [
  {
   "cell_type": "markdown",
   "metadata": {},
   "source": [
    "Competition rules from fivethirtyeight:\n",
    "\n",
    "https://fivethirtyeight.com/features/can-you-rule-riddler-nation/\n",
    "\n",
    "In a distant, war-torn land, there are 10 castles. There are two warlords: you and your archenemy. Each castle has its own strategic value for a would-be conqueror. Specifically, the castles are worth 1, 2, 3, …, 9, and 10 victory points. You and your enemy each have 100 soldiers to distribute, any way you like, to fight at any of the 10 castles. Whoever sends more soldiers to a given castle conquers that castle and wins its victory points. If you each send the same number of troops, you split the points. You don’t know what distribution of forces your enemy has chosen until the battles begin. Whoever wins the most points wins the war.\n",
    "\n",
    "Submit a plan distributing your 100 soldiers among the 10 castles. Once I receive all your battle plans, I’ll adjudicate all the possible one-on-one matchups. Whoever wins the most wars wins the battle royale and is crowned king or queen of Riddler Nation!"
   ]
  },
  {
   "cell_type": "code",
   "execution_count": null,
   "metadata": {
    "collapsed": true
   },
   "outputs": [],
   "source": [
    "from functools import reduce\n",
    "from random import random, randint, sample, shuffle\n",
    "from operator import add\n",
    "import numpy as np\n",
    "import math"
   ]
  },
  {
   "cell_type": "code",
   "execution_count": null,
   "metadata": {
    "collapsed": true
   },
   "outputs": [],
   "source": [
    "N_castles = 10\n",
    "N_soldiers = 100\n",
    "population_count = 100"
   ]
  },
  {
   "cell_type": "code",
   "execution_count": null,
   "metadata": {
    "collapsed": false
   },
   "outputs": [],
   "source": [
    "class rule_riddler_nation:\n",
    "    def __init__(self, N_castles, N_soldiers, population_count):\n",
    "        self.N_castles = N_castles\n",
    "        self.N_soldiers = N_soldiers\n",
    "        self.population_count = population_count\n",
    "\n",
    "    def individual(self, version=\"regular\"):\n",
    "        \"\"\"Create individual random arrangement of soldiers per castle.\"\"\"\n",
    "        \n",
    "        if version == \"regular\" and self.N_soldiers % self.N_castles == 0:\n",
    "            values = [self.N_soldiers/self.N_castles for _ in range(self.N_castles)]\n",
    "            values = self.mutate_individual(values, times=10)\n",
    "        else:\n",
    "            values = []\n",
    "            aux_sum = self.N_soldiers\n",
    "            n = self.N_castles\n",
    "            while n > 1:\n",
    "                value = randint(0, aux_sum)\n",
    "                values.append(value)\n",
    "                aux_sum -= value\n",
    "                n -= 1\n",
    "            values.append(aux_sum)\n",
    "            shuffle(values)\n",
    "            \n",
    "        return values\n",
    "    \n",
    "    def mutate_individual(self, individual, times=5):\n",
    "        \"\"\"Move soldiers around from a given arrangement.\"\"\"\n",
    "        individual = individual[:]\n",
    "        for _ in range(times): \n",
    "            index_1, index_2 = sample(range(self.N_castles), 2)\n",
    "            how_much = sample(range(int(individual[index_1]+1)), 1)[0]\n",
    "            individual[index_1] -= how_much\n",
    "            individual[index_2] += how_much\n",
    "        return individual\n",
    "    \n",
    "    def population(self):\n",
    "        \"\"\"Create population of individual arrangements.\"\"\"\n",
    "        return [ self.individual() for x in range(self.population_count)]\n",
    "    \n",
    "    def match(self, individual_1, individual_2):\n",
    "        \"\"\"Or battle. Check which arrangement scores higher.\"\"\"\n",
    "        score_1 = 0\n",
    "        score_2 = 0\n",
    "        for i, (i1, i2) in enumerate(zip(individual_1, individual_2)):\n",
    "            if i1 > i2:\n",
    "                score_1 += i\n",
    "            elif i2 > i1:\n",
    "                score_2 += i\n",
    "            else:\n",
    "                score_1 += i*0.5\n",
    "                score_2 += i*0.5\n",
    "        return (score_1 >= score_2, score_2 >= score_1)\n",
    "\n",
    "    def score_population(self, population):\n",
    "        \"\"\"Run matches for all pairs in population.\"\"\"\n",
    "        scores = dict((i,0) for i in range(len(population)))\n",
    "        for index_p1, p1 in enumerate(population):\n",
    "            for index_p2, p2 in enumerate(population[1:]):\n",
    "                score1, score2 = self.match(p1, p2)\n",
    "                scores[index_p1] += score1\n",
    "                scores[index_p2] += score2\n",
    "        return [(score, population[i]) for i, score in scores.items()]\n",
    "    \n",
    "    def score_individual_with_population(self, individual, population):\n",
    "        \"\"\"Cross validate individual with given population.\"\"\"\n",
    "        score = 0\n",
    "        for index_p, p in enumerate(population):\n",
    "            score_i, _ = self.match(individual, p)\n",
    "            score += score_i\n",
    "        return score\n",
    "    \n",
    "    def evolve(self, pop, retain=0.25, random=0.75):\n",
    "        \"\"\"Evolve population choosing best performers and add random individuals.\"\"\"\n",
    "        grades = self.score_population(pop)\n",
    "        grades.sort(key=lambda x: -x[0])\n",
    "        best_performers = [elem[1] for elem in grades[:math.floor(retain*len(pop))]]\n",
    "        print('best_performer', best_performers[0])\n",
    "        new_random = [self.individual() for p in range(math.floor(random*len(pop)))]    \n",
    "        return best_performers + new_random"
   ]
  },
  {
   "cell_type": "code",
   "execution_count": null,
   "metadata": {
    "collapsed": false
   },
   "outputs": [],
   "source": [
    "rrn = rule_riddler_nation(N_castles, N_soldiers, population_count)\n",
    "pop = rrn.population()\n",
    "for _ in range(100):\n",
    "    pop = rrn.evolve(pop)"
   ]
  },
  {
   "cell_type": "code",
   "execution_count": null,
   "metadata": {
    "collapsed": true
   },
   "outputs": [],
   "source": []
  }
 ],
 "metadata": {
  "kernelspec": {
   "display_name": "Python 3",
   "language": "python",
   "name": "python3"
  },
  "language_info": {
   "codemirror_mode": {
    "name": "ipython",
    "version": 3
   },
   "file_extension": ".py",
   "mimetype": "text/x-python",
   "name": "python",
   "nbconvert_exporter": "python",
   "pygments_lexer": "ipython3",
   "version": "3.5.2"
  }
 },
 "nbformat": 4,
 "nbformat_minor": 0
}
